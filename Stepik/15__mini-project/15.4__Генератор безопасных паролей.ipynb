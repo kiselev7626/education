{
 "cells": [
  {
   "cell_type": "code",
   "execution_count": 1,
   "metadata": {},
   "outputs": [
    {
     "name": "stdout",
     "output_type": "stream",
     "text": [
      "your passwords:\n",
      "k+ss&rcs^q-^v#^z\n",
      "!rbu%+e*^ca+waax\n",
      "$agj#m_uh#gaa-g+\n",
      "$j^dzs!@$ts*hyc%\n",
      "=wjsc=na!*rzm_-d\n",
      "j#^grus_xhskyjpm\n",
      "_sjvv-crmz+!prmu\n",
      "j_s^y@mzu*c&hz_w\n"
     ]
    }
   ],
   "source": [
    "import random\n",
    "uppercase_letters = 'ABCDEFGHIJKLMNOPQRSTUVWXYZ'\n",
    "lowercase_letters = 'abcdefghijklmnopqrstuvwxyz'\n",
    "digits = '0123456789'\n",
    "punctuation = '!#$%&*+-=?@^_'\n",
    "remove_list = 'il1Lo0O'\n",
    "chars = ''\n",
    "\n",
    "quantity = int(input('enter pass quantity'))\n",
    "lenght =  int(input('enter pass lenght'))\n",
    "\n",
    "use_uppercase_letters=input(\"should I use uppercase letters? y/n?\").lower()\n",
    "use_lowercase_letters=input(\"should I use lowercase letters? y/n?\").lower()\n",
    "use_digit=input(\"should I add digits? y/n\").lower()\n",
    "use_punctuation=input(\"should i use symbols\").lower()\n",
    "use_remove_list=input(\"should i remove follow symbols 'il1Lo0O' y/n\").lower()\n",
    "\n",
    "if use_uppercase_letters == \"y\":\n",
    "    chars += uppercase_letters\n",
    "if use_lowercase_letters == \"y\":\n",
    "    chars += lowercase_letters\n",
    "if use_digit == \"y\":\n",
    "    chars += digits\n",
    "if use_punctuation == \"y\":\n",
    "    chars += punctuation\n",
    "if use_remove_list == \"y\":\n",
    "    for i in range(len(remove_list)):\n",
    "        chars = chars.replace(remove_list[i], '')\n",
    "        \n",
    "def generate(length_1, chars_1):\n",
    "    password=''\n",
    "    for _ in range(length_1):\n",
    "        password += random.choice(chars_1)\n",
    "    return password\n",
    "\n",
    "print('your passwords:')\n",
    "for _ in range(quantity):\n",
    "    password = generate(lenght, chars)\n",
    "    print(password)"
   ]
  }
 ],
 "metadata": {
  "kernelspec": {
   "display_name": "Python 3",
   "language": "python",
   "name": "python3"
  },
  "language_info": {
   "codemirror_mode": {
    "name": "ipython",
    "version": 3
   },
   "file_extension": ".py",
   "mimetype": "text/x-python",
   "name": "python",
   "nbconvert_exporter": "python",
   "pygments_lexer": "ipython3",
   "version": "3.11.3"
  },
  "orig_nbformat": 4
 },
 "nbformat": 4,
 "nbformat_minor": 2
}
