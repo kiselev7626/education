{
 "cells": [
  {
   "cell_type": "code",
   "execution_count": 3,
   "metadata": {},
   "outputs": [
    {
     "name": "stdout",
     "output_type": "stream",
     "text": [
      "Привет Мир, я магический шар, и я знаю ответ на любой твой вопрос.\n",
      "Привет, Ваня\n",
      "Сейчас нельзя предсказать\n",
      "Сейчас нельзя предсказать\n",
      "Возвращайся если возникнут вопросы!\n"
     ]
    }
   ],
   "source": [
    "import random\n",
    "answers = ['Бесспорно', 'Предрешено', 'Никаких сомнений', 'Определённо да', 'Можешь быть уверен в этом', 'Мне кажется - да', 'Вероятнее всего', 'Хорошие перспективы', 'Знаки говорят - да', 'Да', 'Пока неясно, попробуй снова', 'Спроси позже', 'Лучше не рассказывать', 'Сейчас нельзя предсказать', 'Сконцентрируйся и спроси опять', 'Даже не думай', 'Мой ответ - нет', 'По моим данным - нет', 'Перспективы не очень хорошие', 'Весьма сомнительно']\n",
    "print('Привет Мир, я магический шар, и я знаю ответ на любой твой вопрос.')\n",
    "name = input('Как тебя зовут?')\n",
    "print('Привет,', name)\n",
    "age = int(input('сколько тебе лет?'))\n",
    "question_2 = 'да'\n",
    "while question_2.lower() != 'нет':\n",
    "    question_1 = str(input('Введите вопрос'))\n",
    "    print(random.choice(answers))\n",
    "    question_2 = str(input('Хочешь задать еще вопрос?'))\n",
    "else:\n",
    "    print('Возвращайся если возникнут вопросы!')\n",
    "    \n",
    "    "
   ]
  }
 ],
 "metadata": {
  "kernelspec": {
   "display_name": "Python 3",
   "language": "python",
   "name": "python3"
  },
  "language_info": {
   "codemirror_mode": {
    "name": "ipython",
    "version": 3
   },
   "file_extension": ".py",
   "mimetype": "text/x-python",
   "name": "python",
   "nbconvert_exporter": "python",
   "pygments_lexer": "ipython3",
   "version": "3.11.3"
  },
  "orig_nbformat": 4
 },
 "nbformat": 4,
 "nbformat_minor": 2
}
