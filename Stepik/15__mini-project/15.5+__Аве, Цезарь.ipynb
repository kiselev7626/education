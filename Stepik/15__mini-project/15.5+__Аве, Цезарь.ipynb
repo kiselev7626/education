{
 "cells": [
  {
   "cell_type": "code",
   "execution_count": null,
   "metadata": {},
   "outputs": [],
   "source": [
    "alphabet = 'ABCDEFGHIJKLMNOPQRSTUVWXYZ'\n",
    "text_in = 'Day, mice. \"Year\" is a mistake!'\n",
    "\n",
    "def change_alpha(word_i_1, i_1, alphabet_1, step_1):\n",
    "    alphabet_1.find(word_i_1[i_1].upper()) # номер символа в алфавите\n",
    "    if alphabet_1[alphabet_1.find(word_i_1[i_1].upper())] == word_i_1[i_1]: # если символ большой равен символу маленькуому, значит буква большая\n",
    "        new_symbol = alphabet_1[(alphabet_1.find(word_i_1[i_1].upper()) + step) % len(alphabet_1)]\n",
    "    else:\n",
    "        new_symbol = alphabet_1[(alphabet_1.find(word_i_1[i_1].upper()) + step) % len(alphabet_1)].lower()\n",
    "    #print(new_symbol, end='')\n",
    "    return new_symbol\n",
    "\n",
    "# рабить текст на список\n",
    "# каждый элемент списка зашифровать с помощью функции\n",
    "# сложить это в новый список\n",
    "# список перевести в текст\n",
    "# распечатать текст\n",
    "\n",
    "text_list = text_in.split() \n",
    "text_out = ''\n",
    "\n",
    "for word in text_list:\n",
    "    for i in range(len(word)):\n",
    "        text_i_to_encrypt = ''\n",
    "        step = len(word) % len(alphabet)\n",
    "        if word[i].isalpha() == True:\n",
    "            new_symbol = change_alpha(word[i], i, alphabet, step)\n",
    "        else:\n",
    "            new_symbol = word[i]\n",
    "        text_list_out[i] += new_symbol\n",
    "\n",
    "\n",
    "text_out += ''.join(text_list_out)\n",
    "print(text_out)"
   ]
  },
  {
   "cell_type": "code",
   "execution_count": 6,
   "metadata": {},
   "outputs": [
    {
     "data": {
      "text/plain": [
       "['ghgh', 'bghjgjh', 'hgjhbgjk']"
      ]
     },
     "execution_count": 6,
     "metadata": {},
     "output_type": "execute_result"
    }
   ],
   "source": [
    "\"ghgh bghjgjh hgjhbgjk\".split()"
   ]
  }
 ],
 "metadata": {
  "kernelspec": {
   "display_name": "Python 3",
   "language": "python",
   "name": "python3"
  },
  "language_info": {
   "codemirror_mode": {
    "name": "ipython",
    "version": 3
   },
   "file_extension": ".py",
   "mimetype": "text/x-python",
   "name": "python",
   "nbconvert_exporter": "python",
   "pygments_lexer": "ipython3",
   "version": "3.11.3"
  },
  "orig_nbformat": 4
 },
 "nbformat": 4,
 "nbformat_minor": 2
}
