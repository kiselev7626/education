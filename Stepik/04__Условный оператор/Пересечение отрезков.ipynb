{
 "cells": [
  {
   "cell_type": "code",
   "execution_count": 1,
   "metadata": {},
   "outputs": [
    {
     "name": "stdout",
     "output_type": "stream",
     "text": [
      "ошибка ввода\n"
     ]
    }
   ],
   "source": [
    "a1, b1, a2, b2 = int(input()), int(input()), int(input()), int(input()) \n",
    "if min(b1, b2) < max(a1, a2): \n",
    "    print('пустое множество')\n",
    "elif min(b1, b2) == max(a1, a2):\n",
    "    print(min(b1, b2))\n",
    "else:\n",
    "    print(max(a1, a2), min(b1, b2))"
   ]
  },
  {
   "cell_type": "code",
   "execution_count": null,
   "metadata": {},
   "outputs": [],
   "source": [
    "# put your python code here\n",
    "a1, b1, a2, b2 = int(input()), int(input()), int(input()), int(input())\n",
    "\n",
    "if a2 < a1:\n",
    "    if b2 < a1:\n",
    "        print('пустое множество')\n",
    "    elif b2 == a1:\n",
    "        print(b2)\n",
    "    elif a1 < b2 <= b1:\n",
    "        print(a1, b2)\n",
    "    elif b2 > b1:\n",
    "        print(a1, b1)\n",
    "elif a2 == a1:\n",
    "    if b2 <= b1:\n",
    "        print(a2, b2)\n",
    "    else:\n",
    "        print(a2, b1)\n",
    "elif a2 < b1:\n",
    "    if b2 <= b1:\n",
    "        print(a2, b2)\n",
    "    else:\n",
    "        print(a2, b1)\n",
    "elif a2 == b1:\n",
    "    print(a2)\n",
    "else:\n",
    "    print('пустое множество')"
   ]
  }
 ],
 "metadata": {
  "kernelspec": {
   "display_name": "Python 3",
   "language": "python",
   "name": "python3"
  },
  "language_info": {
   "codemirror_mode": {
    "name": "ipython",
    "version": 3
   },
   "file_extension": ".py",
   "mimetype": "text/x-python",
   "name": "python",
   "nbconvert_exporter": "python",
   "pygments_lexer": "ipython3",
   "version": "3.11.5"
  },
  "orig_nbformat": 4
 },
 "nbformat": 4,
 "nbformat_minor": 2
}
