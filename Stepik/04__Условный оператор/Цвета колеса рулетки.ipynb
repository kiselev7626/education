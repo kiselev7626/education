{
 "cells": [
  {
   "cell_type": "code",
   "execution_count": 1,
   "metadata": {},
   "outputs": [
    {
     "name": "stdout",
     "output_type": "stream",
     "text": [
      "ошибка ввода\n"
     ]
    }
   ],
   "source": [
    "n=int(input())\n",
    "if 0 > n or n > 36:\n",
    "    print(\"ошибка ввода\")\n",
    "if n==0:\n",
    "    print(\"зеленый\")\n",
    "if 1 <= n <= 10 and n % 2 > 0:\n",
    "    print (\"красный\")\n",
    "if 1 <= n <= 10 and n % 2 == 0:\n",
    "    print (\"черный\")\n",
    "if 11 <= n <= 18 and n % 2 > 0:\n",
    "    print (\"черный\")\n",
    "if 11 <= n <= 18 and n % 2 == 0:\n",
    "    print (\"красный\")\n",
    "if 19 <= n <= 28 and n % 2 > 0:\n",
    "    print (\"красный\")\n",
    "if 19 <= n <= 28 and n % 2 == 0:\n",
    "    print (\"черный\")\n",
    "if 29 <= n <= 36 and n % 2 > 0:\n",
    "    print (\"черный\")\n",
    "if 29 <= n <= 36 and n % 2 == 0:\n",
    "    print (\"красный\")"
   ]
  }
 ],
 "metadata": {
  "kernelspec": {
   "display_name": "Python 3",
   "language": "python",
   "name": "python3"
  },
  "language_info": {
   "codemirror_mode": {
    "name": "ipython",
    "version": 3
   },
   "file_extension": ".py",
   "mimetype": "text/x-python",
   "name": "python",
   "nbconvert_exporter": "python",
   "pygments_lexer": "ipython3",
   "version": "3.11.5"
  },
  "orig_nbformat": 4
 },
 "nbformat": 4,
 "nbformat_minor": 2
}
