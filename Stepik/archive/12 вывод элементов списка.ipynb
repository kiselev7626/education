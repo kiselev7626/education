{
 "cells": [
  {
   "cell_type": "code",
   "execution_count": null,
   "metadata": {},
   "outputs": [],
   "source": [
    "n=int(input('Введите количество строк'))\n",
    "list1=[]\n",
    "for i in range(n):\n",
    "    x=str(input('Введите строку'))\n",
    "    list1.append(x)\n",
    "    \n",
    "k=int(input('Введите количество поисковых запросов'))\n",
    "list2=[]\n",
    "for j in range(k):\n",
    "    y=str(input('Введите поисковый запрос'))\n",
    "    list2.append(y)"
   ]
  },
  {
   "cell_type": "code",
   "execution_count": null,
   "metadata": {},
   "outputs": [],
   "source": [
    "list3=[]\n",
    "for j1 in range(0, k):\n",
    "    #print('list2[j1] _______________________________ =', list2[j1])\n",
    "    for i1 in range(0, n):\n",
    "        #print('list1[i1] =', list1[i1])\n",
    "        if list2[j1].lower() in list1[i1].lower():\n",
    "            list3.append(list1[i1])\n",
    "print('list3', list3)\n",
    "print('len(list3) =', len(list3))\n",
    "\n",
    "# add if k=1\n",
    "# this decides if k=2\n",
    "for l in range(0, len(list3)-1):\n",
    "    for m in range(l+1, len(list3)):\n",
    "        if list3[l] == list3[m]:\n",
    "            print(list3[l])\n",
    "\n",
    "# check if k>2"
   ]
  },
  {
   "cell_type": "code",
   "execution_count": null,
   "metadata": {},
   "outputs": [],
   "source": [
    "list1=['Язык Python прекрасен', 'C# - отличный язык программирования', 'Stepik - отличная платформа', 'BEEGEEK FOREVER!', 'язык Python появился 20 февраля 1991']\n",
    "list2=['язык', 'python']\n",
    "n=len(list1)\n",
    "k=len(list2)\n",
    "print('n =', n, 'k =', k)"
   ]
  },
  {
   "cell_type": "code",
   "execution_count": null,
   "metadata": {},
   "outputs": [],
   "source": [
    "list1=['A caelo usque ad BEEGEEK centrum', 'A capillo usque ad ungues', 'A capite ad calcem beegeek', 'Ab absurdo beegeeK', 'Ab BEEGEEK equis ad asinos', 'Ab hoedis scindere oves']\n",
    "list2=['Beegeek']\n",
    "n=len(list1)\n",
    "k=len(list2)\n",
    "print('n =', n, 'k =', k)"
   ]
  },
  {
   "cell_type": "code",
   "execution_count": null,
   "metadata": {},
   "outputs": [],
   "source": [
    "list1=['Язык Python прекрасен', 'C# - отличный язык программирования', 'Stepik - отличная платформа' 'BEEGEEK FOREVER!', 'язык Python появился 20 февраля 1991']\n",
    "list2=['язык', 'python', 'прекрасен']\n",
    "n=len(list1)\n",
    "k=len(list2)\n",
    "print('n =', n, 'k =', k)"
   ]
  },
  {
   "cell_type": "code",
   "execution_count": null,
   "metadata": {},
   "outputs": [],
   "source": [
    "flag=false\n",
    "for i in range(0, len(list2)):\n",
    "    for j in range(0, len(list1)):\n",
    "        if list2[i] in list1[j]:\n",
    "            flag=true"
   ]
  }
 ],
 "metadata": {
  "kernelspec": {
   "display_name": "Python 3",
   "language": "python",
   "name": "python3"
  },
  "language_info": {
   "codemirror_mode": {
    "name": "ipython",
    "version": 3
   },
   "file_extension": ".py",
   "mimetype": "text/x-python",
   "name": "python",
   "nbconvert_exporter": "python",
   "pygments_lexer": "ipython3",
   "version": "3.11.3"
  },
  "orig_nbformat": 4
 },
 "nbformat": 4,
 "nbformat_minor": 2
}
