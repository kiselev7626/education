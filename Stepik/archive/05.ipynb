{
 "cells": [
  {
   "cell_type": "code",
   "execution_count": 13,
   "metadata": {},
   "outputs": [
    {
     "name": "stdout",
     "output_type": "stream",
     "text": [
      "list1 = ['____', 'Roman', 'Timur']\n",
      "list2 = Timur\n",
      "list1 = ['____', 'Roman']\n",
      "list1 = ['    ', 'Roman']\n"
     ]
    }
   ],
   "source": [
    "list1 = ['____', 'Roman' , 'Timur']\n",
    "print(\"list1 =\", list1)\n",
    "list2 = list1.pop(-1)\n",
    "print(\"list2 =\", list2)\n",
    "print(\"list1 =\", list1)\n",
    "list1.remove('____')\n",
    "list1.insert(0, '    ')\n",
    "print(\"list1 =\", list1)"
   ]
  },
  {
   "cell_type": "code",
   "execution_count": 4,
   "metadata": {},
   "outputs": [
    {
     "name": "stdout",
     "output_type": "stream",
     "text": [
      "['____']\n",
      "1\n"
     ]
    }
   ],
   "source": [
    "b1='    ' # 4 пробела\n",
    "b2=b1.replace(' ', '_') # меняю 4 пробела на 4 нижних подчеркивания\n",
    "list1=b2.split(' ') # перевожу в список\n",
    "print(list1) # он печатает 4 пробела, но почему появляются справа и слева '' ?\n",
    "print(len(list1))"
   ]
  },
  {
   "cell_type": "code",
   "execution_count": 6,
   "metadata": {},
   "outputs": [
    {
     "name": "stdout",
     "output_type": "stream",
     "text": [
      "['a', 'b', 'c', 'd', 'e', 'f', 'g']\n"
     ]
    }
   ],
   "source": [
    "chars = [c for c in 'abcdefg']\n",
    "print(chars)"
   ]
  },
  {
   "cell_type": "code",
   "execution_count": 1,
   "metadata": {},
   "outputs": [
    {
     "name": "stdout",
     "output_type": "stream",
     "text": [
      "3\n"
     ]
    }
   ],
   "source": [
    "a='abc'\n",
    "print(len(a))"
   ]
  }
 ],
 "metadata": {
  "kernelspec": {
   "display_name": "Python 3",
   "language": "python",
   "name": "python3"
  },
  "language_info": {
   "codemirror_mode": {
    "name": "ipython",
    "version": 3
   },
   "file_extension": ".py",
   "mimetype": "text/x-python",
   "name": "python",
   "nbconvert_exporter": "python",
   "pygments_lexer": "ipython3",
   "version": "3.11.3"
  },
  "orig_nbformat": 4
 },
 "nbformat": 4,
 "nbformat_minor": 2
}
