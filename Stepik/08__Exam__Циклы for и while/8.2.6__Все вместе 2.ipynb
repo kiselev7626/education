{
 "cells": [
  {
   "cell_type": "code",
   "execution_count": null,
   "metadata": {},
   "outputs": [],
   "source": [
    "#n = int(input())\n",
    "n = 1234537834\n",
    "n_2 = n\n",
    "\n",
    "count_1 = 0\n",
    "while n != 0 :  # пока в числе есть цифры\n",
    "    last_digit = n % 10  # получить последнюю цифру\n",
    "    # код обработки последней цифры\n",
    "    if last_digit == 3:\n",
    "        count_1 +=1\n",
    "    n = n // 10  # удалить последнюю цифру из числа\n",
    "print('3 =', count_1)\n",
    "\n",
    "count_2 = 0\n",
    "last_digit_1 = n_2 % 10\n",
    "print(n_2)\n",
    "print(last_digit_1)\n",
    "while n_2 != 0 :  # пока в числе есть цифры\n",
    "    last_digit_2 = n_2 % 10  # получить последнюю цифру\n",
    "    #print(last_digit_2)\n",
    "    # код обработки последней цифры\n",
    "    if last_digit_2 == last_digit_1:\n",
    "        count_2 +=1\n",
    "    n = n // 10  # удалить последнюю цифру из числа\n",
    "print('last digit =', count_2)\n"
   ]
  },
  {
   "cell_type": "code",
   "execution_count": null,
   "metadata": {},
   "outputs": [],
   "source": [
    "n = int(input())\n",
    "count_3 = 0\n",
    "count_last_digit = 0\n",
    "count_chet = 0\n",
    "s5 = 0\n",
    "p7 = 1\n",
    "count_05 = 0\n",
    "last_digit = n%10\n",
    "while n != 0:\n",
    "    if n % 10 == 3:\n",
    "        count_3 += 1\n",
    "    if last_digit == n % 10:\n",
    "        count_last_digit += 1\n",
    "    if n % 10 % 2 == 0:\n",
    "        count_chet += 1\n",
    "    if n % 10 > 5:\n",
    "        s5 += n % 10\n",
    "    if n % 10 > 7:\n",
    "        p7 *= n % 10\n",
    "    if n % 10 == 0 or n % 10 == 5:\n",
    "        count_05 += 1\n",
    "    n //= 10\n",
    "    \n",
    "print(count_3)\n",
    "print(count_last_digit)\n",
    "print(count_chet)\n",
    "print(s5)\n",
    "print(p7)\n",
    "print(count_05)"
   ]
  }
 ],
 "metadata": {
  "kernelspec": {
   "display_name": "Python 3",
   "language": "python",
   "name": "python3"
  },
  "language_info": {
   "codemirror_mode": {
    "name": "ipython",
    "version": 3
   },
   "file_extension": ".py",
   "mimetype": "text/x-python",
   "name": "python",
   "nbconvert_exporter": "python",
   "pygments_lexer": "ipython3",
   "version": "3.11.5"
  },
  "orig_nbformat": 4
 },
 "nbformat": 4,
 "nbformat_minor": 2
}
