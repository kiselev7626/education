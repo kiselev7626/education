{
 "cells": [
  {
   "cell_type": "code",
   "execution_count": 1,
   "metadata": {},
   "outputs": [
    {
     "name": "stdout",
     "output_type": "stream",
     "text": [
      "['1', '2', '3', '4', '5', '6', '7', '8', '9']\n",
      "16 36 "
     ]
    }
   ],
   "source": [
    "#a=input()\n",
    "a='1 2 3 4 5 6 7 8 9'\n",
    "b=a.split()\n",
    "print(b)\n",
    "for i in range(len(b)):\n",
    "    if int(b[i])%2==0:\n",
    "        #print(int(b[i])**2, end=' ')\n",
    "        if (int(b[i])**2-int(b[i])**2//10*10)!=4:\n",
    "            print(int(b[i])**2, end=' ')"
   ]
  },
  {
   "cell_type": "code",
   "execution_count": 3,
   "metadata": {},
   "outputs": [
    {
     "name": "stdout",
     "output_type": "stream",
     "text": [
      "16 36 "
     ]
    }
   ],
   "source": [
    "# пока без списочного выражения\n",
    "a=input().split()\n",
    "for i in range(len(a)):\n",
    "    if int(a[i])%2==0:\n",
    "        if (int(a[i])**2-int(a[i])**2//10*10)!=4:\n",
    "            print(int(a[i])**2, end=' ')"
   ]
  }
 ],
 "metadata": {
  "kernelspec": {
   "display_name": "Python 3",
   "language": "python",
   "name": "python3"
  },
  "language_info": {
   "codemirror_mode": {
    "name": "ipython",
    "version": 3
   },
   "file_extension": ".py",
   "mimetype": "text/x-python",
   "name": "python",
   "nbconvert_exporter": "python",
   "pygments_lexer": "ipython3",
   "version": "3.11.3"
  },
  "orig_nbformat": 4
 },
 "nbformat": 4,
 "nbformat_minor": 2
}
