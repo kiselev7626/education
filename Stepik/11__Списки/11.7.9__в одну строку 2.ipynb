{
 "cells": [
  {
   "cell_type": "code",
   "execution_count": 1,
   "metadata": {},
   "outputs": [
    {
     "name": "stdout",
     "output_type": "stream",
     "text": [
      "31415"
     ]
    }
   ],
   "source": [
    "a=str(input())\n",
    "#a='Число Pi примерно равно 3.1415'\n",
    "#print(a)\n",
    "#print(list(a))\n",
    "for i in range(len(a)):\n",
    "    #print(list(a)[i])\n",
    "    #print(list(a)[i].isdigit())\n",
    "    if list(a)[i].isdigit()==True:\n",
    "        print(list(a)[i], end='')"
   ]
  },
  {
   "cell_type": "code",
   "execution_count": 3,
   "metadata": {},
   "outputs": [
    {
     "name": "stdout",
     "output_type": "stream",
     "text": [
      "31415"
     ]
    }
   ],
   "source": [
    "a=str(input())\n",
    "for i in range(len(a)):\n",
    "    if list(a)[i].isdigit()==True:\n",
    "        print(list(a)[i], end='')"
   ]
  }
 ],
 "metadata": {
  "kernelspec": {
   "display_name": "Python 3",
   "language": "python",
   "name": "python3"
  },
  "language_info": {
   "codemirror_mode": {
    "name": "ipython",
    "version": 3
   },
   "file_extension": ".py",
   "mimetype": "text/x-python",
   "name": "python",
   "nbconvert_exporter": "python",
   "pygments_lexer": "ipython3",
   "version": "3.11.3"
  },
  "orig_nbformat": 4
 },
 "nbformat": 4,
 "nbformat_minor": 2
}
