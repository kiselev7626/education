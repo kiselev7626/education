{
 "cells": [
  {
   "cell_type": "markdown",
   "metadata": {},
   "source": [
    "Оптимизируйте приведенный код, реализующий алгоритм пузырьковой сортировки."
   ]
  },
  {
   "cell_type": "code",
   "execution_count": null,
   "metadata": {},
   "outputs": [],
   "source": [
    "a = [17, 24, 91, 96, 67, -27, 79, -71, -71, 58, 48, 88, 88, -16, -78, 96, -76, 56, 92, 1, 32, -17, 36, 88, -61, -97, -37, -84, 50, 47, 94, -6, 52, -76, 93, 14, -32, 98, -65, -16, -9, -68, -20, -40, -71, 93, -91, 44, 25, 79, 97, 0, -94, 7, -47, -96, -55, -58, -78, -78, -79, 75, 44, -56, -41, 38, 16, 70, 17, -17, -24, -83, -74, -73, 11, -26, 63, -75, -19, -13, -51, -74, 21, -8, 21, -68, -66, -84, -95, 78, 69, -29, 39, 38, -55, 7, -11, -26, -62, -84]\n",
    "\n",
    "n = len(a)\n",
    "\n",
    "for i in range(n - 1):\n",
    "    for j in range(n - i - 1):\n",
    "        if a[j] > a[j + 1]:\n",
    "            a[j], a[j + 1] = a[j + 1], a[j]\n",
    "\n",
    "print(a)"
   ]
  },
  {
   "cell_type": "code",
   "execution_count": 9,
   "metadata": {},
   "outputs": [
    {
     "name": "stdout",
     "output_type": "stream",
     "text": [
      "[5, 1, 4, 2, 3]\n",
      "[1, 5, 4, 2, 3]\n",
      "[1, 4, 5, 2, 3]\n",
      "[1, 4, 2, 5, 3]\n",
      "[1, 4, 2, 3, 5]\n",
      "[1, 2, 4, 3, 5]\n",
      "[1, 2, 3, 4, 5]\n"
     ]
    }
   ],
   "source": [
    "a = [5, 1, 4, 2, 3]\n",
    "print(a)\n",
    "n = len(a)\n",
    "for i in range(n - 1):\n",
    "    for j in range(n - 1):\n",
    "        if a[j] > a[j + 1]:\n",
    "            a[j], a[j + 1] = a[j + 1], a[j]\n",
    "            print(a)"
   ]
  }
 ],
 "metadata": {
  "kernelspec": {
   "display_name": "Python 3",
   "language": "python",
   "name": "python3"
  },
  "language_info": {
   "codemirror_mode": {
    "name": "ipython",
    "version": 3
   },
   "file_extension": ".py",
   "mimetype": "text/x-python",
   "name": "python",
   "nbconvert_exporter": "python",
   "pygments_lexer": "ipython3",
   "version": "3.11.3"
  },
  "orig_nbformat": 4
 },
 "nbformat": 4,
 "nbformat_minor": 2
}
