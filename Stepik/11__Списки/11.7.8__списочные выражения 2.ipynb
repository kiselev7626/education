{
 "cells": [
  {
   "cell_type": "code",
   "execution_count": null,
   "metadata": {},
   "outputs": [],
   "source": [
    "# Списочное выражение 2\n",
    "# На вход программе подается строка текста, содержащая целые числа. Напишите программу, использующую списочное выражение, которая выведет кубы указанных чисел также на одной строке.\n",
    "\n",
    "# Формат входных данных\n",
    "# На вход программе подается строка текста, содержащая целые числа, разделенные символом пробела.\n",
    "\n",
    "# Формат выходных данных\n",
    "# Программа должна вывести текст в соответствии с условием задачи.\n",
    "\n",
    "# Примечание 1. Для вывода элементов списка используйте цикл for.\n",
    "# Примечание 2. Используйте метод split().\n",
    "\n",
    "# Тестовые данные\n",
    "# Sample Input 1:\n",
    "# 2 4 3\n",
    "\n",
    "# Sample Output 1:\n",
    "# 8 64 27\n",
    "\n",
    "# Sample Input 2:\n",
    "# -2 -5 0\n",
    "\n",
    "# Sample Output 2:\n",
    "# -8 -125 01"
   ]
  },
  {
   "cell_type": "code",
   "execution_count": null,
   "metadata": {},
   "outputs": [],
   "source": [
    "a=int(input())\n",
    "b=[]\n",
    "b=[i**2 for i in range(1, a+1)]\n",
    "#print(b)\n",
    "for j in range (0, len(b)):\n",
    "    print(b[j])"
   ]
  },
  {
   "cell_type": "code",
   "execution_count": 1,
   "metadata": {},
   "outputs": [
    {
     "name": "stdout",
     "output_type": "stream",
     "text": [
      "8 64 27 "
     ]
    }
   ],
   "source": [
    "#Списочное выражение 2\n",
    "\n",
    "a=input()           # ввести строку текста\n",
    "b=a.split()         # строку текста переделываю в список (не с числами, просто в список)\n",
    "#print('b =', b)    # проверяем какой получился список\n",
    "for i in range (len(b)):\n",
    "    print(int(b[i])**3, end=' ') # печатаю через пробел куби чисел, БЕЗ создания списка, просто печатаю в строку\n",
    "\n"
   ]
  },
  {
   "cell_type": "code",
   "execution_count": null,
   "metadata": {},
   "outputs": [],
   "source": [
    "b=input().split()\n",
    "for i in range (len(b)):\n",
    "    print(int(b[i])**3, end=' ')\n"
   ]
  },
  {
   "cell_type": "code",
   "execution_count": 5,
   "metadata": {},
   "outputs": [
    {
     "name": "stdout",
     "output_type": "stream",
     "text": [
      "3\n",
      "4\n",
      "5\n"
     ]
    },
    {
     "data": {
      "text/plain": [
       "[None, None, None]"
      ]
     },
     "execution_count": 5,
     "metadata": {},
     "output_type": "execute_result"
    }
   ],
   "source": [
    "[print(int(a)) for a in input().split()]"
   ]
  },
  {
   "cell_type": "code",
   "execution_count": 9,
   "metadata": {},
   "outputs": [
    {
     "name": "stdout",
     "output_type": "stream",
     "text": [
      "27 64 125\n"
     ]
    }
   ],
   "source": [
    "#final\n",
    "print(*[int(a) ** 3 for a in input().split()])"
   ]
  }
 ],
 "metadata": {
  "kernelspec": {
   "display_name": "Python 3",
   "language": "python",
   "name": "python3"
  },
  "language_info": {
   "codemirror_mode": {
    "name": "ipython",
    "version": 3
   },
   "file_extension": ".py",
   "mimetype": "text/x-python",
   "name": "python",
   "nbconvert_exporter": "python",
   "pygments_lexer": "ipython3",
   "version": "3.11.3"
  },
  "orig_nbformat": 4
 },
 "nbformat": 4,
 "nbformat_minor": 2
}
