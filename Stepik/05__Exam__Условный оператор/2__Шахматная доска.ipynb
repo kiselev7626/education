{
 "cells": [
  {
   "cell_type": "code",
   "execution_count": 4,
   "metadata": {},
   "outputs": [
    {
     "name": "stdout",
     "output_type": "stream",
     "text": [
      "NO\n"
     ]
    }
   ],
   "source": [
    "col_1=int(input())\n",
    "line_1=int(input())\n",
    "col_2=int(input())\n",
    "line_2=int(input())\n",
    "\n",
    "if (col_1 % 2 == 0 and line_1 % 2 != 0) or (col_1 % 2 != 0 and line_1 % 2 == 0):\n",
    "    square_1 = 'black'\n",
    "else:\n",
    "    square_1 = 'white'\n",
    "\n",
    "if (col_2 % 2 == 0 and line_2 % 2 != 0) or (col_2 % 2 != 0 and line_2 % 2 == 0):\n",
    "    square_2 = 'black'\n",
    "else:\n",
    "    square_2 = 'white'\n",
    "\n",
    "if square_1 == square_2:\n",
    "    print('YES')\n",
    "else:\n",
    "    print('NO')"
   ]
  }
 ],
 "metadata": {
  "kernelspec": {
   "display_name": "Python 3",
   "language": "python",
   "name": "python3"
  },
  "language_info": {
   "codemirror_mode": {
    "name": "ipython",
    "version": 3
   },
   "file_extension": ".py",
   "mimetype": "text/x-python",
   "name": "python",
   "nbconvert_exporter": "python",
   "pygments_lexer": "ipython3",
   "version": "3.11.5"
  },
  "orig_nbformat": 4
 },
 "nbformat": 4,
 "nbformat_minor": 2
}
