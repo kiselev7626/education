{
 "cells": [
  {
   "cell_type": "code",
   "execution_count": null,
   "metadata": {},
   "outputs": [],
   "source": [
    "# put your python code here\n",
    "n = int(input())\n",
    "\n",
    "if n % 2 != 0: # нечётное, то вывести «YES»;\n",
    "    print('YES')\n",
    "\n",
    "if n % 2 == 0 and 2 <= n <= 5: # чётное в диапазоне от 2 до 5 (включительно), то вывести «NO»;\n",
    "    print('NO')\n",
    "\n",
    "if n % 2 == 0 and 6<= n <= 20: # чётное в диапазоне от 6 до 20 (включительно), то вывести «YES»;\n",
    "    print('YES')\n",
    "\n",
    "if n % 2 == 0 and n > 20: # чётное и больше 20, то вывести «NO».\n",
    "    print('NO')\n",
    "\n",
    "\n",
    "\n"
   ]
  }
 ],
 "metadata": {
  "kernelspec": {
   "display_name": "Python 3",
   "language": "python",
   "name": "python3"
  },
  "language_info": {
   "codemirror_mode": {
    "name": "ipython",
    "version": 3
   },
   "file_extension": ".py",
   "mimetype": "text/x-python",
   "name": "python",
   "nbconvert_exporter": "python",
   "pygments_lexer": "ipython3",
   "version": "3.11.5"
  },
  "orig_nbformat": 4
 },
 "nbformat": 4,
 "nbformat_minor": 2
}
