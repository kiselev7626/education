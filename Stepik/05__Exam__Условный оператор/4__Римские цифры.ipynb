{
 "cells": [
  {
   "cell_type": "code",
   "execution_count": null,
   "metadata": {},
   "outputs": [],
   "source": [
    "n = int(input())\n",
    "if n == 1:\n",
    "    print('I')\n",
    "if n == 2:\n",
    "    print('II')\n",
    "if n == 3:\n",
    "    print('III')\n",
    "if n == 4:\n",
    "    print('IV')\n",
    "if n == 5:\n",
    "    print('V')\n",
    "if n == 6:\n",
    "    print('VI')\n",
    "if n == 7:\n",
    "    print('VII')\n",
    "if n == 8:\n",
    "    print('VIII')\n",
    "if n == 9:\n",
    "    print('IX')\n",
    "if n == 10:\n",
    "    print('X')\n",
    "if 1 > n or n > 10:\n",
    "    print('ошибка')"
   ]
  }
 ],
 "metadata": {
  "kernelspec": {
   "display_name": "Python 3",
   "language": "python",
   "name": "python3"
  },
  "language_info": {
   "codemirror_mode": {
    "name": "ipython",
    "version": 3
   },
   "file_extension": ".py",
   "mimetype": "text/x-python",
   "name": "python",
   "nbconvert_exporter": "python",
   "pygments_lexer": "ipython3",
   "version": "3.11.5"
  },
  "orig_nbformat": 4
 },
 "nbformat": 4,
 "nbformat_minor": 2
}
