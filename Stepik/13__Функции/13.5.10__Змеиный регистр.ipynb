{
 "cells": [
  {
   "cell_type": "markdown",
   "metadata": {},
   "source": [
    "Змеиный регистр 🐍\n",
    "Напишите функцию convert_to_python_case(text), которая принимает в качестве аргумента строку в «верблюжьем регистре» и преобразует его в «змеиный регистр».\n",
    "\n",
    "Примечание 1. Почитать подробнее о стилях именования можно по ссылке.\n",
    "\n",
    "Примечание 2. Приведённый ниже код:\n",
    "print(convert_to_python_case('ThisIsCamelCased'))\n",
    "print(convert_to_python_case('IsPrimeNumber'))\n",
    "\n",
    "должен выводить:\n",
    "this_is_camel_cased\n",
    "is_prime_number"
   ]
  },
  {
   "cell_type": "code",
   "execution_count": null,
   "metadata": {},
   "outputs": [],
   "source": [
    "# объявление функции\n",
    "def convert_to_python_case(text):\n",
    "    for i in range(len(text)-1, 0, -1):\n",
    "        if text[i].isupper() == True:\n",
    "            text = text[0:i] + '_' + text[i::]\n",
    "    return text.lower()\n",
    "\n",
    "# считываем данные\n",
    "txt = input()\n",
    "\n",
    "# вызываем функцию\n",
    "print(convert_to_python_case(txt))"
   ]
  }
 ],
 "metadata": {
  "kernelspec": {
   "display_name": "Python 3",
   "language": "python",
   "name": "python3"
  },
  "language_info": {
   "codemirror_mode": {
    "name": "ipython",
    "version": 3
   },
   "file_extension": ".py",
   "mimetype": "text/x-python",
   "name": "python",
   "nbconvert_exporter": "python",
   "pygments_lexer": "ipython3",
   "version": "3.11.3"
  },
  "orig_nbformat": 4
 },
 "nbformat": 4,
 "nbformat_minor": 2
}
