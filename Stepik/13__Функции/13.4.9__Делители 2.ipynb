{
 "cells": [
  {
   "cell_type": "code",
   "execution_count": 1,
   "metadata": {},
   "outputs": [
    {
     "name": "stdout",
     "output_type": "stream",
     "text": [
      "[0, 4, 7, 8, 9]\n",
      "[]\n",
      "[4]\n"
     ]
    }
   ],
   "source": [
    "# объявление функции\n",
    "def find_all(target, symbol):\n",
    "    a = []\n",
    "    b = list(target)\n",
    "    for i in range(len(b)):\n",
    "        if b[i] == symbol:\n",
    "            a.append(i)\n",
    "#    print(a)\n",
    "    return a\n",
    "\n",
    "# считываем данные\n",
    "#s = input()\n",
    "#char = input()\n",
    "\n",
    "# вызываем функцию\n",
    "#print(find_all(s, char))\n",
    "\n",
    "print(find_all('abcdabcaaa', 'a'))\n",
    "print(find_all('abcadbcaaa', 'e'))\n",
    "print(find_all('abcadbcaaa', 'd'))"
   ]
  }
 ],
 "metadata": {
  "kernelspec": {
   "display_name": "Python 3",
   "language": "python",
   "name": "python3"
  },
  "language_info": {
   "codemirror_mode": {
    "name": "ipython",
    "version": 3
   },
   "file_extension": ".py",
   "mimetype": "text/x-python",
   "name": "python",
   "nbconvert_exporter": "python",
   "pygments_lexer": "ipython3",
   "version": "3.11.3"
  },
  "orig_nbformat": 4
 },
 "nbformat": 4,
 "nbformat_minor": 2
}
