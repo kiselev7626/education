{
 "cells": [
  {
   "cell_type": "code",
   "execution_count": null,
   "metadata": {},
   "outputs": [],
   "source": [
    "# объявление функции\n",
    "def get_factors(num):\n",
    "    num = []\n",
    "    for i in range(1, n + 1):\n",
    "        if n % i == 0:\n",
    "            num.append(i)\n",
    "    return num\n",
    "# считываем данные\n",
    "n = int(input())\n",
    "\n",
    "# вызываем функцию\n",
    "print(get_factors(n))"
   ]
  },
  {
   "cell_type": "code",
   "execution_count": 2,
   "metadata": {},
   "outputs": [
    {
     "name": "stdout",
     "output_type": "stream",
     "text": [
      "[1]\n",
      "[1, 5]\n",
      "[1, 2, 5, 10]\n"
     ]
    }
   ],
   "source": [
    "# объявление функции\n",
    "def get_factors(num):\n",
    "    a=[]\n",
    "    for i in range(1, num+1):\n",
    "        if num % i == 0:\n",
    "            a.append(i)\n",
    "    return a\n",
    "# считываем данные\n",
    "#n = int(input())\n",
    "\n",
    "# вызываем функцию\n",
    "print(get_factors(1))\n",
    "print(get_factors(5))\n",
    "print(get_factors(10))"
   ]
  }
 ],
 "metadata": {
  "kernelspec": {
   "display_name": "Python 3",
   "language": "python",
   "name": "python3"
  },
  "language_info": {
   "codemirror_mode": {
    "name": "ipython",
    "version": 3
   },
   "file_extension": ".py",
   "mimetype": "text/x-python",
   "name": "python",
   "nbconvert_exporter": "python",
   "pygments_lexer": "ipython3",
   "version": "3.11.3"
  },
  "orig_nbformat": 4
 },
 "nbformat": 4,
 "nbformat_minor": 2
}
