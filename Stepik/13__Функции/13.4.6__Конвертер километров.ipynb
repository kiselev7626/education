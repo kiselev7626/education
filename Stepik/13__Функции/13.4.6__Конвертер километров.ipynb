{
 "cells": [
  {
   "cell_type": "code",
   "execution_count": null,
   "metadata": {},
   "outputs": [],
   "source": [
    "# объявление функции\n",
    "def convert_to_miles(km):\n",
    "    return km * 0.6214\n",
    "\n",
    "# считываем данные\n",
    "num = int(input()) #Что это тут делает? Она же на фиг не нужна!\n",
    "\n",
    "# вызываем функцию\n",
    "\n",
    "print(convert_to_miles(num))\n"
   ]
  }
 ],
 "metadata": {
  "kernelspec": {
   "display_name": "Python 3",
   "language": "python",
   "name": "python3"
  },
  "language_info": {
   "codemirror_mode": {
    "name": "ipython",
    "version": 3
   },
   "file_extension": ".py",
   "mimetype": "text/x-python",
   "name": "python",
   "nbconvert_exporter": "python",
   "pygments_lexer": "ipython3",
   "version": "3.11.3"
  },
  "orig_nbformat": 4
 },
 "nbformat": 4,
 "nbformat_minor": 2
}
