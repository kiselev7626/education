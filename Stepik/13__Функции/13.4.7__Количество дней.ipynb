{
 "cells": [
  {
   "cell_type": "code",
   "execution_count": null,
   "metadata": {},
   "outputs": [],
   "source": [
    "def get_days(month):\n",
    "#    a=int(input())\n",
    "    if month==1 or month==3 or month==5 or month==7 or month==8 or month==10 or month==12:\n",
    "        return 31\n",
    "    elif month==2:\n",
    "        return 28\n",
    "    else:\n",
    "        return 30\n",
    "\n",
    "print(get_days(1))\n",
    "print(get_days(2))\n",
    "print(get_days(9))"
   ]
  }
 ],
 "metadata": {
  "kernelspec": {
   "display_name": "Python 3",
   "language": "python",
   "name": "python3"
  },
  "language_info": {
   "codemirror_mode": {
    "name": "ipython",
    "version": 3
   },
   "file_extension": ".py",
   "mimetype": "text/x-python",
   "name": "python",
   "nbconvert_exporter": "python",
   "pygments_lexer": "ipython3",
   "version": "3.11.3"
  },
  "orig_nbformat": 4
 },
 "nbformat": 4,
 "nbformat_minor": 2
}
