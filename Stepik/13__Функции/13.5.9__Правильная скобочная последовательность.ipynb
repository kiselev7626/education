{
 "cells": [
  {
   "cell_type": "markdown",
   "metadata": {},
   "source": [
    "Правильная скобочная последовательность 🌶️\n",
    "Напишите функцию is_correct_bracket(text), которая принимает в качестве аргумента непустую строку text, состоящую из символов ( и ) и возвращает значение True, если поступившая на вход строка является правильной скобочной последовательностью, или значение False в противном случае.\n",
    "\n",
    "Примечание 1. Правильной скобочной последовательностью называется строка, состоящая только из символов ( и ), где каждой открывающей скобке найдётся парная закрывающая скобка (при этом каждая открывающая скобка должна быть левее соответствующей ей закрывающей скобки).\n",
    "\n",
    "Примечание 2. Приведённый ниже код:\n",
    "\n",
    "print(is_correct_bracket('()(()())'))\n",
    "print(is_correct_bracket(')(())('))\n",
    "должен выводить:\n",
    "\n",
    "True\n",
    "False"
   ]
  },
  {
   "cell_type": "code",
   "execution_count": 34,
   "metadata": {},
   "outputs": [
    {
     "name": "stdout",
     "output_type": "stream",
     "text": [
      "False\n"
     ]
    }
   ],
   "source": [
    "# объявление функции\n",
    "def is_correct_bracket(text):\n",
    "    a = list(text)\n",
    "    count_1, count_200 = 0, 0\n",
    "    \n",
    "    for i in range(len(a)):\n",
    "        #print('a[i] =', a[i])\n",
    "\n",
    "        if a[i]=='(':\n",
    "            count_1 +=1\n",
    "        else:\n",
    "            count_200 +=1\n",
    "        #print(count_1, count_200)\n",
    "        \n",
    "        if count_200 > count_1:\n",
    "            return False\n",
    "\n",
    "    if count_1 == count_200:\n",
    "        return True\n",
    "    else:\n",
    "        return False\n",
    "\n",
    "# считываем данные\n",
    "txt = input()\n",
    "\n",
    "# вызываем функцию\n",
    "print(is_correct_bracket(txt))"
   ]
  }
 ],
 "metadata": {
  "kernelspec": {
   "display_name": "Python 3",
   "language": "python",
   "name": "python3"
  },
  "language_info": {
   "codemirror_mode": {
    "name": "ipython",
    "version": 3
   },
   "file_extension": ".py",
   "mimetype": "text/x-python",
   "name": "python",
   "nbconvert_exporter": "python",
   "pygments_lexer": "ipython3",
   "version": "3.11.5"
  },
  "orig_nbformat": 4
 },
 "nbformat": 4,
 "nbformat_minor": 2
}
