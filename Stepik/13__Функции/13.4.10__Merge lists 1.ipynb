{
 "cells": [
  {
   "cell_type": "code",
   "execution_count": 3,
   "metadata": {},
   "outputs": [
    {
     "name": "stdout",
     "output_type": "stream",
     "text": [
      "[1, 2, 3, 5, 6, 7, 8]\n",
      "[1, 5, 6, 7, 10, 13, 16, 20]\n"
     ]
    }
   ],
   "source": [
    "# объявление функции\n",
    "def merge(list1, list2):\n",
    "    list=[]\n",
    "    list.extend(list1)\n",
    "    list.extend(list2)    \n",
    "#    print(list)\n",
    "    b = sorted(list)\n",
    "#    print(b)\n",
    "    return b\n",
    "\n",
    "# считываем данные\n",
    "#numbers1 = [int(c) for c in input().split()]\n",
    "#numbers2 = [int(c) for c in input().split()]\n",
    "\n",
    "# вызываем функцию\n",
    "#print(merge(numbers1, numbers2))\n",
    "\n",
    "print(merge([1, 2, 3], [5, 6, 7, 8]))\n",
    "print(merge([1, 7, 10, 16], [5, 6, 13, 20]))"
   ]
  },
  {
   "cell_type": "code",
   "execution_count": null,
   "metadata": {},
   "outputs": [],
   "source": [
    "list1, list2 = [1, 2, 3], [5, 6, 7, 8]\n",
    "list=[]\n",
    "list.extend(list1)\n",
    "print(list)\n",
    "list.extend(list2)\n",
    "print(list)"
   ]
  }
 ],
 "metadata": {
  "kernelspec": {
   "display_name": "Python 3",
   "language": "python",
   "name": "python3"
  },
  "language_info": {
   "codemirror_mode": {
    "name": "ipython",
    "version": 3
   },
   "file_extension": ".py",
   "mimetype": "text/x-python",
   "name": "python",
   "nbconvert_exporter": "python",
   "pygments_lexer": "ipython3",
   "version": "3.11.3"
  },
  "orig_nbformat": 4
 },
 "nbformat": 4,
 "nbformat_minor": 2
}
