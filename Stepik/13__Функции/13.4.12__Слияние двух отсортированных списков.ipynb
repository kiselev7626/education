{
 "cells": [
  {
   "cell_type": "code",
   "execution_count": 1,
   "metadata": {},
   "outputs": [
    {
     "name": "stdout",
     "output_type": "stream",
     "text": [
      "[0, 3, 10, 11, 11, 12, 12, 20, 24, 26, 47, 47, 48, 53, 57, 58, 63, 65, 70, 77, 79, 80, 81, 84, 84, 90, 95]\n"
     ]
    }
   ],
   "source": [
    "list1 = [3, 10, 11, 12, 47, 57, 58, 63, 77, 79, 80, 95]\n",
    "list2 = [0, 11, 12, 20, 24, 26, 47, 48, 53, 65, 70, 81, 84, 84, 90]\n",
    "#Простейшее решение задачи слияния списков использует списочный метод sort():\n",
    "\n",
    "def merge(list1, list2):\n",
    "    result = list1 + list2   # создаем результирующий список\n",
    "    result.sort()            # сортируем список встроенным методом sort()\n",
    "    return result            # возвращаем отсортированный список\n",
    "\n",
    "\n",
    "list1 = [3, 10, 11, 12, 47, 57, 58, 63, 77, 79, 80, 95]\n",
    "list2 = [0, 11, 12, 20, 24, 26, 47, 48, 53, 65, 70, 81, 84, 84, 90]\n",
    "list3 = merge(list1, list2)  # вызываем функцию слияния двух отсортированных списков\n",
    "\n",
    "print(list3)"
   ]
  }
 ],
 "metadata": {
  "kernelspec": {
   "display_name": "Python 3",
   "language": "python",
   "name": "python3"
  },
  "language_info": {
   "codemirror_mode": {
    "name": "ipython",
    "version": 3
   },
   "file_extension": ".py",
   "mimetype": "text/x-python",
   "name": "python",
   "nbconvert_exporter": "python",
   "pygments_lexer": "ipython3",
   "version": "3.11.3"
  },
  "orig_nbformat": 4
 },
 "nbformat": 4,
 "nbformat_minor": 2
}
