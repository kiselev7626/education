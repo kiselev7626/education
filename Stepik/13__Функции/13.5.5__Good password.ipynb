{
 "cells": [
  {
   "cell_type": "markdown",
   "metadata": {},
   "source": [
    "Good password 🌶️\n",
    "Напишите функцию is_password_good(password), которая принимает в качестве аргумента строковое значение пароля password и возвращает значение True, если пароль является надежным и False - в противном случае.\n",
    "\n",
    "Пароль является надежным если:\n",
    "его длина не менее 8 символов; \n",
    "он содержит как минимум одну заглавную букву (верхний регистр); \n",
    "он содержит как минимум одну строчную букву (нижний регистр);\n",
    "он содержит хотя бы одну цифру.\n",
    "\n",
    "Примечание. Следующий программный код:\n",
    "print(is_password_good('aabbCC11OP'))\n",
    "print(is_password_good('abC1pu'))\n",
    "\n",
    "должен выводить:\n",
    "True\n",
    "False"
   ]
  },
  {
   "cell_type": "code",
   "execution_count": 17,
   "metadata": {},
   "outputs": [
    {
     "name": "stdout",
     "output_type": "stream",
     "text": [
      "False\n"
     ]
    }
   ],
   "source": [
    "# объявление функции\n",
    "def is_password_good(password):\n",
    "    count = 0\n",
    "    \n",
    "    # condition 1 - его длина не менее 8 символов\n",
    "    if len(list(txt)) >= 8:\n",
    "        count +=1\n",
    "    \n",
    "    # condition 2 - он содержит как минимум одну заглавную букву (верхний регистр)\n",
    "    if txt != txt.upper():\n",
    "        count +=1\n",
    "    \n",
    "    # condition 3 - он содержит как минимум одну строчную букву (нижний регистр)\n",
    "    if txt != txt.lower():\n",
    "        count +=1\n",
    "    \n",
    "    # condition 4 - он содержит хотя бы одну цифру\n",
    "    if txt.find('0') >=0 or txt.find('1') >=0 or txt.find('2') >=0 or txt.find('3') >=0 or txt.find('4') >=0 or txt.find('5') >=0 or txt.find('6') >=0 or txt.find('7') >=0 or txt.find('7') >=0 or txt.find('9') >=0 :\n",
    "        count +=1\n",
    "\n",
    "    # считаем количество выполненных условий\n",
    "    if count == 4:\n",
    "        return True\n",
    "    else:\n",
    "        return False\n",
    "\n",
    "# считываем данные\n",
    "txt = input()\n",
    "#txt = 'aabbCC11OP'\n",
    "\n",
    "# вызываем функцию\n",
    "print(is_password_good(txt))"
   ]
  }
 ],
 "metadata": {
  "kernelspec": {
   "display_name": "Python 3",
   "language": "python",
   "name": "python3"
  },
  "language_info": {
   "codemirror_mode": {
    "name": "ipython",
    "version": 3
   },
   "file_extension": ".py",
   "mimetype": "text/x-python",
   "name": "python",
   "nbconvert_exporter": "python",
   "pygments_lexer": "ipython3",
   "version": "3.11.3"
  },
  "orig_nbformat": 4
 },
 "nbformat": 4,
 "nbformat_minor": 2
}
