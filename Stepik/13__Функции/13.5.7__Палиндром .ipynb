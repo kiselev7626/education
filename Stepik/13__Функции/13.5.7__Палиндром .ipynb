{
 "cells": [
  {
   "cell_type": "code",
   "execution_count": 41,
   "metadata": {},
   "outputs": [
    {
     "name": "stdout",
     "output_type": "stream",
     "text": [
      "Standart - smallest, sell Amstrad nats.\n",
      "standart - smallest, sell amstrad nats.\n",
      "standart-smallest,sellamstradnats.\n",
      "standart-smallest,sellamstradnats\n",
      "standart-smallestsellamstradnats\n",
      "standartsmallestsellamstradnats\n",
      "standartsmallestsellamstradnats\n",
      "a = standartsmallestsellamstradnats\n",
      "a1 = ['s', 't', 'a', 'n', 'd', 'a', 'r', 't', 's', 'm', 'a', 'l', 'l', 'e', 's', 't', 's', 'e', 'l', 'l', 'a', 'm', 's', 't', 'r', 'a', 'd', 'n', 'a', 't', 's']\n",
      "b = ['s', 't', 'a', 'n', 'd', 'a', 'r', 't', 's', 'm', 'a', 'l', 'l', 'e', 's', 't', 's', 'e', 'l', 'l', 'a', 'm', 's', 't', 'r', 'a', 'd', 'n', 'a', 't', 's']\n",
      "True\n"
     ]
    }
   ],
   "source": [
    "# объявление функции\n",
    "def is_palindrome(text):\n",
    "    #print(list(txt))\n",
    "    #print(list(txt).reverse())\n",
    "    \n",
    "    a=text.lower()\n",
    "    print(a)\n",
    "    a=a.replace(' ', '')\n",
    "    print(a)\n",
    "    a=a.replace('.', '')\n",
    "    print(a)\n",
    "    a=a.replace(',', '')\n",
    "    print(a)\n",
    "    a=a.replace('-', '')\n",
    "    print(a)\n",
    "    a=a.replace('!', '')\n",
    "    print(a)\n",
    "    a=a.replace('?', '')\n",
    "    print('a =', a)\n",
    "    a1=list(a)\n",
    "    print('a1 =', a1)\n",
    "    b=a1[::-1]\n",
    "    print('b =', b)\n",
    "    if a1 == b:\n",
    "        return True\n",
    "    else:\n",
    "        return False\n",
    "\n",
    "# считываем данные\n",
    "#txt = input()\n",
    "txt='Standart - smallest, sell Amstrad nats.'\n",
    "print(txt)\n",
    "\n",
    "# вызываем функцию\n",
    "print(is_palindrome(txt))"
   ]
  }
 ],
 "metadata": {
  "kernelspec": {
   "display_name": "Python 3",
   "language": "python",
   "name": "python3"
  },
  "language_info": {
   "codemirror_mode": {
    "name": "ipython",
    "version": 3
   },
   "file_extension": ".py",
   "mimetype": "text/x-python",
   "name": "python",
   "nbconvert_exporter": "python",
   "pygments_lexer": "ipython3",
   "version": "3.11.5"
  },
  "orig_nbformat": 4
 },
 "nbformat": 4,
 "nbformat_minor": 2
}
