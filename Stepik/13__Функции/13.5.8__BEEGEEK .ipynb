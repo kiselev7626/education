{
 "cells": [
  {
   "cell_type": "markdown",
   "metadata": {},
   "source": [
    "BEEGEEK наконец-то открыл свой банк, в котором используются специальные банкоматы с необычным паролем.\n",
    "\n",
    "Действительный пароль BEEGEEK банка имеет вид a:b:c, где a, b и c – натуральные числа. Поскольку основатель BEEGEEK фанатеет от математики, то он решил:\n",
    "\n",
    "число a – должно быть палиндромом;\n",
    "число b – должно быть простым;\n",
    "число c – должно быть четным.\n",
    "\n",
    "Напишите функцию is_valid_password(password), которая принимает в качестве аргумента строковое значение пароля password и возвращает значение True, если пароль является действительным паролем BEEGEEK банка и False - в противном случае.\n",
    "\n",
    "Примечание. Следующий программный код:\n",
    "print(is_valid_password('1221:101:22'))\n",
    "print(is_valid_password('565:30:50'))\n",
    "print(is_valid_password('112:7:9'))\n",
    "print(is_valid_password('1221:101:22:22'))\n",
    "\n",
    "должен выводить:\n",
    "True\n",
    "False\n",
    "False\n",
    "False"
   ]
  },
  {
   "cell_type": "code",
   "execution_count": 19,
   "metadata": {},
   "outputs": [
    {
     "name": "stdout",
     "output_type": "stream",
     "text": [
      "False\n"
     ]
    }
   ],
   "source": [
    "# объявление функции\n",
    "def is_valid_password(password):\n",
    "    # разбить нстроку на a, b, c\n",
    "    a0=password.split(':')\n",
    "    a, b, c = a0[0], a0[1], a0[2]\n",
    "    \n",
    "    if len(a0) >3:\n",
    "        return False\n",
    "    \n",
    "    count = 0\n",
    "    #print('count simple =', count)\n",
    "    \n",
    "    # паллиндром\n",
    "    a1=list(a)\n",
    "    a2=a1[::-1]\n",
    "    if a1 == a2:\n",
    "        count +=1 # must be 1\n",
    "    #print('count pallindrom =', count)\n",
    "    \n",
    "    # простое число\n",
    "    for i in range(1, int(b)+1):\n",
    "        if int(b) % i == 0:\n",
    "            count +=1 # must be 1+2=3\n",
    "    #print('count простое =', count)\n",
    "    \n",
    "    # четное число\n",
    "    if int(c) % 2 == 0:\n",
    "        count +=1 # must be 4\n",
    "    #print('count четное =', count)\n",
    "    \n",
    "    if count == 4:\n",
    "        return True\n",
    "    else:\n",
    "        return False\n",
    "\n",
    "# считываем данные\n",
    "psw = input()\n",
    "\n",
    "# вызываем функцию\n",
    "print(is_valid_password(psw))"
   ]
  },
  {
   "cell_type": "code",
   "execution_count": null,
   "metadata": {},
   "outputs": [],
   "source": [
    "psw = '1221:101:22'\n",
    "\n",
    "# разбить нстроку на a, b, c\n",
    "a0=psw.split(':')\n",
    "a, b, c = a0[0], a0[1], a0[2]\n",
    "count = 0\n",
    "print('count =', count)\n",
    "    \n",
    "# паллиндром\n",
    "a1=list(a)\n",
    "a2=a1[::-1]\n",
    "if a1 == a2:\n",
    "    count +=1 # must be 1\n",
    "print('count pallindrom =', count)\n",
    "    \n",
    "# простое число\n",
    "for i in range(1, int(b)+1):\n",
    "    if int(b) % i == 0:\n",
    "        count +=1 # must be 1+2=3\n",
    "print('count simple =', count)\n",
    "\n",
    "# четное число\n",
    "if int(c) % 2 == 0:\n",
    "    count +=1 # must be 4\n",
    "print('count чётное =', count)\n"
   ]
  }
 ],
 "metadata": {
  "kernelspec": {
   "display_name": "Python 3",
   "language": "python",
   "name": "python3"
  },
  "language_info": {
   "codemirror_mode": {
    "name": "ipython",
    "version": 3
   },
   "file_extension": ".py",
   "mimetype": "text/x-python",
   "name": "python",
   "nbconvert_exporter": "python",
   "pygments_lexer": "ipython3",
   "version": "3.11.3"
  },
  "orig_nbformat": 4
 },
 "nbformat": 4,
 "nbformat_minor": 2
}
