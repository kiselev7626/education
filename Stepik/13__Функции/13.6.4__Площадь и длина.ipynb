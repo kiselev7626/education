{
 "cells": [
  {
   "cell_type": "code",
   "execution_count": 5,
   "metadata": {},
   "outputs": [
    {
     "name": "stdout",
     "output_type": "stream",
     "text": [
      "9.42477796076938 7.0685834705770345\n"
     ]
    }
   ],
   "source": [
    "# объявление функции\n",
    "def get_circle(radius):\n",
    "    import math\n",
    "    length = 2 * math.pi * radius\n",
    "    square = math.pi * radius **2\n",
    "    return length, square\n",
    "\n",
    "# считываем данные\n",
    "r = float(input())\n",
    "\n",
    "# вызываем функцию\n",
    "length, square = get_circle(r)\n",
    "print(length, square)"
   ]
  }
 ],
 "metadata": {
  "kernelspec": {
   "display_name": "Python 3",
   "language": "python",
   "name": "python3"
  },
  "language_info": {
   "codemirror_mode": {
    "name": "ipython",
    "version": 3
   },
   "file_extension": ".py",
   "mimetype": "text/x-python",
   "name": "python",
   "nbconvert_exporter": "python",
   "pygments_lexer": "ipython3",
   "version": "3.11.5"
  },
  "orig_nbformat": 4
 },
 "nbformat": 4,
 "nbformat_minor": 2
}
