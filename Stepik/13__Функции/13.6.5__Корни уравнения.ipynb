{
 "cells": [
  {
   "cell_type": "code",
   "execution_count": 20,
   "metadata": {},
   "outputs": [
    {
     "name": "stdout",
     "output_type": "stream",
     "text": [
      "-1.7529026660385376 0.20744812058399198\n"
     ]
    }
   ],
   "source": [
    "# объявление функции\n",
    "def solve(a, b, c):\n",
    "    d = b**2 - 4*a*c\n",
    "    if d>0:\n",
    "        x1=(-1*b+d**0.5)/(2*a)\n",
    "        x2=(-1*b-d**0.5)/(2*a)\n",
    "        #print(min(x1, x2))\n",
    "        #print(max(x1, x2))\n",
    "        if x2<0:\n",
    "            x1, x2 = x2, x1\n",
    "        return x1, x2\n",
    "    if d==0:\n",
    "        x1=(-1*b)/(2*a)\n",
    "        x2=x1\n",
    "        #print(x)\n",
    "        return x1, x2\n",
    "    #if d<0:\n",
    "        #print('Нет корней')\n",
    "    \n",
    "# считываем данные\n",
    "a, b, c = int(input()), int(input()), int(input())\n",
    "\n",
    "# вызываем функцию\n",
    "x1, x2 = solve(a, b, c)\n",
    "print(x1, x2)"
   ]
  }
 ],
 "metadata": {
  "kernelspec": {
   "display_name": "Python 3",
   "language": "python",
   "name": "python3"
  },
  "language_info": {
   "codemirror_mode": {
    "name": "ipython",
    "version": 3
   },
   "file_extension": ".py",
   "mimetype": "text/x-python",
   "name": "python",
   "nbconvert_exporter": "python",
   "pygments_lexer": "ipython3",
   "version": "3.11.5"
  },
  "orig_nbformat": 4
 },
 "nbformat": 4,
 "nbformat_minor": 2
}
