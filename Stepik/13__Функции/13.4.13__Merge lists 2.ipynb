{
 "cells": [
  {
   "cell_type": "markdown",
   "metadata": {},
   "source": [
    "На вход программе подается число n, а затем n строк, содержащих целые числа в порядке возрастания. Из данных строк формируются списки чисел. Напишите программу, которая объединяет указанные списки в один отсортированный список с помощью функции quick_merge(), а затем выводит его.\n",
    "\n",
    "Формат входных данных\n",
    "На вход программе подается натуральное число n, а затем n строк, содержащих целые числа в порядке возрастания, разделенные символом пробела.\n",
    "\n",
    "Формат выходных данных\n",
    "Программа должна вывести элементы окончательного отсортированного списка каждое через пробел.\n",
    "\n",
    "Тестовые данные 🟢\n",
    "Sample Input 1:\n",
    "\n",
    "3\n",
    "1 2 3 4\n",
    "5 6 7\n",
    "10 11 17\n",
    "Sample Output 1:\n",
    "\n",
    "1 2 3 4 5 6 7 10 11 17"
   ]
  },
  {
   "cell_type": "code",
   "execution_count": null,
   "metadata": {},
   "outputs": [],
   "source": [
    "#n=int(input())\n",
    "n=4\n",
    "\n",
    "# initialise the empty list to store list of list\n",
    "list_total = []\n",
    "for row in range(0, n):\n",
    "    # for each row generate a list which contain the 3 elements in it\n",
    "    # generated using list comprehension\n",
    "    list = [element for element in range(row, row+n)]\n",
    "    # put the rowList in the list of list\n",
    "    list_total.append(list)\n",
    "\n",
    "# displaying the store values in listOfLits\n",
    "print(list_total)"
   ]
  },
  {
   "cell_type": "code",
   "execution_count": null,
   "metadata": {},
   "outputs": [],
   "source": [
    "#n=int(input())\n",
    "n=3\n",
    "for i in range(n):\n",
    "    list = [element for element in range(0, row+n)]\n",
    "    print(list)\n",
    "    "
   ]
  },
  {
   "cell_type": "code",
   "execution_count": null,
   "metadata": {},
   "outputs": [],
   "source": [
    "#n=int(input())\n",
    "n=3\n",
    "for i in range(n):\n",
    "    global list_{i}\n",
    "    list_[i] = []\n",
    "    print(list)"
   ]
  },
  {
   "cell_type": "markdown",
   "metadata": {},
   "source": [
    "1. Взял функцию из предыдущего примера\n",
    "2. создал пустой список, в которой будем выводить наш отсортированный список\n",
    "3. вводим число списков n через int(input())\n",
    "4. задаем цикл от 1 до n+1 в котором:\n",
    "4.1. вводим стоку через input()\n",
    "4.2. преобразуем строку в список с помощью split, например my_list = my_string.split()\n",
    "4.3. задаем еще один цикл по длине списка, в котором преобразуем числа (строчные) в цифры через int, например my_list[i] = int(my_list[i]\n",
    "4.4. для итогового списка вызываем функцию, с аргументами (новый введенный список и итоговый), например total_list = quick_merge(my_list, total_list)\n",
    "5. Выводим итоговый список"
   ]
  },
  {
   "cell_type": "code",
   "execution_count": 19,
   "metadata": {},
   "outputs": [
    {
     "name": "stdout",
     "output_type": "stream",
     "text": [
      "list_3 = [10, 11, 12]\n",
      "list_total = []\n"
     ]
    }
   ],
   "source": [
    "list_total = [] # создал пустой список, в которой будем выводить наш отсортированный список\n",
    "n=int(input()) # вводим число списков\n",
    "\n",
    "for i in range(n+1):\n",
    "    a=str(input())\n",
    "    list_1=a.split()\n",
    "\n",
    "for j in range(len(list_1)):\n",
    "    list_1[j]=int(list_1[j])\n",
    "\n",
    "list_3 = merge(list_1, list_total)\n",
    "\n",
    "# Взял функцию из предыдущего примера\n",
    "def merge(list_1, list_total):\n",
    "    result = list_1 + list_total   # создаем результирующий список\n",
    "    result.sort()            # сортируем список встроенным методом sort()\n",
    "    return result            # возвращаем отсортированный список\n",
    "\n",
    "print('list_3 =', list_3)\n",
    "print('list_total =', list_total)"
   ]
  },
  {
   "cell_type": "code",
   "execution_count": 2,
   "metadata": {},
   "outputs": [
    {
     "name": "stdout",
     "output_type": "stream",
     "text": [
      "b = 1 2 3\n",
      "b = 1 2 34 5 6\n",
      "b = 1 2 34 5 67 8 9\n"
     ]
    }
   ],
   "source": [
    "# вводим строки\n",
    "# добавляем их друг другу\n",
    "# № переводим в числа\n",
    "# sort\n",
    "# return\n",
    "\n",
    "n=int(input()) # вводим число строк\n",
    "b = ''\n",
    "for i in range(n):\n",
    "    a=str(input())\n",
    "    #list_1=a.split()\n",
    "    b = b + a\n",
    "    print('b =', b)"
   ]
  },
  {
   "cell_type": "code",
   "execution_count": 15,
   "metadata": {},
   "outputs": [
    {
     "name": "stdout",
     "output_type": "stream",
     "text": [
      "b = ['8', '9', '7']\n",
      "b = ['8', '9', '7', '6', '4', '5']\n",
      "b = ['8', '9', '7', '6', '4', '5', '3', '2', '11']\n",
      "b = [8, '9', '7', '6', '4', '5', '3', '2', '11']\n",
      "b = [8, 9, '7', '6', '4', '5', '3', '2', '11']\n",
      "b = [8, 9, 7, '6', '4', '5', '3', '2', '11']\n",
      "b = [8, 9, 7, 6, '4', '5', '3', '2', '11']\n",
      "b = [8, 9, 7, 6, 4, '5', '3', '2', '11']\n",
      "b = [8, 9, 7, 6, 4, 5, '3', '2', '11']\n",
      "b = [8, 9, 7, 6, 4, 5, 3, '2', '11']\n",
      "b = [8, 9, 7, 6, 4, 5, 3, 2, '11']\n",
      "b = [8, 9, 7, 6, 4, 5, 3, 2, 11]\n",
      "[2, 3, 4, 5, 6, 7, 8, 9, 11]\n"
     ]
    }
   ],
   "source": [
    "n=int(input())\n",
    "b = []\n",
    "for i in range(n):\n",
    "    a=str(input())\n",
    "    b = b + a.split()\n",
    "#    print('b =', b)\n",
    "  \n",
    "def quick_merge(b):\n",
    "    result = b.sort()\n",
    "    return result\n",
    "\n",
    "for j in range(len(b)):\n",
    "    b[j] = int(b[j])\n",
    "#    print('b =', b)\n",
    "        \n",
    "quick_merge(b)\n",
    "for k in range(len(b)):\n",
    "    print(b[k], end=' ')"
   ]
  }
 ],
 "metadata": {
  "kernelspec": {
   "display_name": "Python 3",
   "language": "python",
   "name": "python3"
  },
  "language_info": {
   "codemirror_mode": {
    "name": "ipython",
    "version": 3
   },
   "file_extension": ".py",
   "mimetype": "text/x-python",
   "name": "python",
   "nbconvert_exporter": "python",
   "pygments_lexer": "ipython3",
   "version": "3.11.3"
  },
  "orig_nbformat": 4
 },
 "nbformat": 4,
 "nbformat_minor": 2
}
