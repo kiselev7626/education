{
 "cells": [
  {
   "cell_type": "code",
   "execution_count": null,
   "metadata": {},
   "outputs": [],
   "source": [
    "def is_valid_triangle(side1, side2, side3):\n",
    "    if side1 < side2 + side3 and side2 < side1 + side3 and side3 < side1 + side2:\n",
    "        return True\n",
    "    else:\n",
    "        return False\n",
    "    \n",
    "print(is_valid_triangle(2, 2, 2))\n",
    "print(is_valid_triangle(2, 3, 10))\n",
    "print(is_valid_triangle(3, 4, 5))"
   ]
  },
  {
   "cell_type": "markdown",
   "metadata": {},
   "source": [
    "(side1 + side2 != side3 or side1 + side3 != side2 or side3 + side2 != side1)\n",
    "side1 + side2 > side3 or side1 + side3 > side2 or side3 + side2 > side1:\n",
    "side1 < side2 + side3 and side2 < side1 + side3 and side3 < side1 + side2"
   ]
  },
  {
   "cell_type": "code",
   "execution_count": 26,
   "metadata": {},
   "outputs": [
    {
     "name": "stdout",
     "output_type": "stream",
     "text": [
      "True\n"
     ]
    }
   ],
   "source": [
    "# объявление функции\n",
    "def is_valid_triangle(side1, side2, side3):\n",
    "    if side1 < side2 + side3 and side2 < side1 + side3 and side3 < side1 + side2:\n",
    "        return True\n",
    "    else:\n",
    "        return False\n",
    "\n",
    "# считываем данные\n",
    "a, b, c = int(input()), int(input()), int(input())\n",
    "\n",
    "# вызываем функцию\n",
    "print(is_valid_triangle(a, b, c))"
   ]
  }
 ],
 "metadata": {
  "kernelspec": {
   "display_name": "Python 3",
   "language": "python",
   "name": "python3"
  },
  "language_info": {
   "codemirror_mode": {
    "name": "ipython",
    "version": 3
   },
   "file_extension": ".py",
   "mimetype": "text/x-python",
   "name": "python",
   "nbconvert_exporter": "python",
   "pygments_lexer": "ipython3",
   "version": "3.11.3"
  },
  "orig_nbformat": 4
 },
 "nbformat": 4,
 "nbformat_minor": 2
}
