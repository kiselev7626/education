{
 "cells": [
  {
   "cell_type": "code",
   "execution_count": 5,
   "metadata": {},
   "outputs": [
    {
     "name": "stdout",
     "output_type": "stream",
     "text": [
      "ГТА\n"
     ]
    }
   ],
   "source": [
    "# объявление функции\n",
    "def print_fio(name, surname, patronymic):\n",
    "    a = list(name.capitalize())\n",
    "    b = list(surname.capitalize())\n",
    "    c = list(patronymic.capitalize())\n",
    "    print(b[0], a[0], c[0], sep='')\n",
    "\n",
    "# считываем данные\n",
    "#name, surname, patronymic = input(), input(), input()\n",
    "name, surname, patronymic = 'тимур', 'Гуев', 'ахсарбекович'\n",
    "\n",
    "# вызываем функцию\n",
    "print_fio(name, surname, patronymic)"
   ]
  }
 ],
 "metadata": {
  "kernelspec": {
   "display_name": "Python 3",
   "language": "python",
   "name": "python3"
  },
  "language_info": {
   "codemirror_mode": {
    "name": "ipython",
    "version": 3
   },
   "file_extension": ".py",
   "mimetype": "text/x-python",
   "name": "python",
   "nbconvert_exporter": "python",
   "pygments_lexer": "ipython3",
   "version": "3.11.3"
  },
  "orig_nbformat": 4
 },
 "nbformat": 4,
 "nbformat_minor": 2
}
