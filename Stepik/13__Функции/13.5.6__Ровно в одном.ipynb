{
 "cells": [
  {
   "cell_type": "markdown",
   "metadata": {},
   "source": [
    "Ровно в одном\n",
    "Напишите функцию is_one_away(word1, word2), которая принимает в качестве аргументов два слова word1 и word2 и возвращает значение True, если слова имеют одинаковую длину и отличаются ровно в одном символе, или значение False  в противном случае.\n",
    "\n",
    "Примечание. Следующий программный код:\n",
    "print(is_one_away('bike', 'hike'))\n",
    "print(is_one_away('water', 'wafer'))\n",
    "print(is_one_away('abcd', 'abpo'))\n",
    "print(is_one_away('abcd', 'abcde'))\n",
    "\n",
    "должен выводить:\n",
    "True\n",
    "True\n",
    "False\n",
    "False"
   ]
  },
  {
   "cell_type": "code",
   "execution_count": 8,
   "metadata": {},
   "outputs": [
    {
     "name": "stdout",
     "output_type": "stream",
     "text": [
      "False\n"
     ]
    }
   ],
   "source": [
    "# объявление функции\n",
    "def is_one_away(word1, word2):\n",
    "    count = 0\n",
    "    if len(list(word1)) == len(list(word2)):\n",
    "        for i in range(len(list(word1))):\n",
    "            if word1[i] != word2[i]:\n",
    "                count+=1\n",
    "    if count==1:\n",
    "        return True\n",
    "    else:\n",
    "        return False\n",
    "            \n",
    "\n",
    "# считываем данные\n",
    "#txt1 = input()\n",
    "#txt2 = input()\n",
    "\n",
    "txt1 = 'water'\n",
    "txt2 = 'wafer'\n",
    "\n",
    "# вызываем функцию\n",
    "print(is_one_away(txt1, txt2))"
   ]
  }
 ],
 "metadata": {
  "kernelspec": {
   "display_name": "Python 3",
   "language": "python",
   "name": "python3"
  },
  "language_info": {
   "codemirror_mode": {
    "name": "ipython",
    "version": 3
   },
   "file_extension": ".py",
   "mimetype": "text/x-python",
   "name": "python",
   "nbconvert_exporter": "python",
   "pygments_lexer": "ipython3",
   "version": "3.11.5"
  },
  "orig_nbformat": 4
 },
 "nbformat": 4,
 "nbformat_minor": 2
}
