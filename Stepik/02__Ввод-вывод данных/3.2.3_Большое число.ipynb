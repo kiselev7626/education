{
 "cells": [
  {
   "cell_type": "markdown",
   "metadata": {},
   "source": [
    "Большое число\n",
    "Как известно, целые числа в языке Python не имеют ограничений, которые встречаются в других языках программирования. Напишите программу, которая считывает четыре целых положительных числа \n",
    "a\n",
    ",\n",
    "b\n",
    ",\n",
    "c\n",
    "a,b,c и \n",
    "d\n",
    "d и выводит на экран значение выражения \n",
    "a\n",
    "b\n",
    "+\n",
    "c\n",
    "d\n",
    "a \n",
    "b\n",
    " +c \n",
    "d\n",
    " .\n",
    "\n",
    "Формат входных данных\n",
    "На вход программе подаются четыре целых положительных числа \n",
    "a\n",
    ",\n",
    "b\n",
    ",\n",
    "c\n",
    "a,b,c и \n",
    "d\n",
    "d, каждое на отдельной строке.\n",
    "\n",
    "Формат выходных данных\n",
    "Программа должна вывести значение \n",
    "a\n",
    "b\n",
    "+\n",
    "c\n",
    "d\n",
    "a \n",
    "b\n",
    " +c \n",
    "d\n",
    " .\n",
    "\n",
    "Тестовые данные 🟢\n",
    "Sample Input:\n",
    "\n",
    "9\n",
    "29\n",
    "7\n",
    "27\n",
    "Sample Output:\n",
    "\n",
    "4710194409608608369201743232"
   ]
  },
  {
   "cell_type": "code",
   "execution_count": null,
   "metadata": {},
   "outputs": [],
   "source": [
    "a = int(input())\n",
    "b = int(input())\n",
    "c = int(input())\n",
    "d = int(input())\n",
    "print(a**b + c**d)"
   ]
  }
 ],
 "metadata": {
  "kernelspec": {
   "display_name": "Python 3",
   "language": "python",
   "name": "python3"
  },
  "language_info": {
   "codemirror_mode": {
    "name": "ipython",
    "version": 3
   },
   "file_extension": ".py",
   "mimetype": "text/x-python",
   "name": "python",
   "nbconvert_exporter": "python",
   "pygments_lexer": "ipython3",
   "version": "3.11.3"
  },
  "orig_nbformat": 4
 },
 "nbformat": 4,
 "nbformat_minor": 2
}
