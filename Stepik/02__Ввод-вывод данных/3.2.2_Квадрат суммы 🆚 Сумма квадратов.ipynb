{
 "cells": [
  {
   "cell_type": "markdown",
   "metadata": {},
   "source": [
    "Квадрат суммы 🆚 Сумма квадратов\n",
    "Напишите программу, которая считывает два целых числа \n",
    "a\n",
    "a и \n",
    "b\n",
    "b и выводит на экран квадрат суммы \n",
    "(\n",
    "a\n",
    "+\n",
    "b\n",
    ")\n",
    "2\n",
    "(a+b) \n",
    "2\n",
    "  и сумму квадратов \n",
    "a\n",
    "2\n",
    "+\n",
    "b\n",
    "2\n",
    "a \n",
    "2\n",
    " +b \n",
    "2\n",
    "  этих чисел в следующем формате:\n",
    "\n",
    "Квадрат суммы <a> и <b> равен <квадрат суммы a и b>\n",
    "Сумма квадратов <a> и <b> равна <сумма квадратов a и b>\n",
    "Формат входных данных\n",
    "На вход программе подаются два целых числа, каждое на отдельной строке.\n",
    "\n",
    "Формат выходных данных\n",
    "Программа должна вывести текст в соответствии с условием.\n",
    "\n",
    "Тестовые данные 🟢\n",
    "Sample Input 1:\n",
    "\n",
    "3\n",
    "2\n",
    "Sample Output 1:\n",
    "\n",
    "Квадрат суммы 3 и 2 равен 25\n",
    "Сумма квадратов 3 и 2 равна 13\n",
    "Sample Input 2:\n",
    "\n",
    "-5\n",
    "1\n",
    "Sample Output 2:\n",
    "\n",
    "Квадрат суммы -5 и 1 равен 16\n",
    "Сумма квадратов -5 и 1 равна 26\n",
    "Sample Input 3:\n",
    "\n",
    "17\n",
    "0\n",
    "Sample Output 3:\n",
    "\n",
    "Квадрат суммы 17 и 0 равен 289\n",
    "Сумма квадратов 17 и 0 равна 289"
   ]
  },
  {
   "cell_type": "code",
   "execution_count": null,
   "metadata": {},
   "outputs": [],
   "source": [
    "a = int(input())\n",
    "b = int(input())\n",
    "\n",
    "print('Квадрат суммы', a, 'и', b, 'равен', (a+b)**2)\n",
    "print('Сумма квадратов', a, 'и', b, 'равна', (a**2 +b**2))"
   ]
  }
 ],
 "metadata": {
  "kernelspec": {
   "display_name": "Python 3",
   "language": "python",
   "name": "python3"
  },
  "language_info": {
   "codemirror_mode": {
    "name": "ipython",
    "version": 3
   },
   "file_extension": ".py",
   "mimetype": "text/x-python",
   "name": "python",
   "nbconvert_exporter": "python",
   "pygments_lexer": "ipython3",
   "version": "3.11.3"
  },
  "orig_nbformat": 4
 },
 "nbformat": 4,
 "nbformat_minor": 2
}
