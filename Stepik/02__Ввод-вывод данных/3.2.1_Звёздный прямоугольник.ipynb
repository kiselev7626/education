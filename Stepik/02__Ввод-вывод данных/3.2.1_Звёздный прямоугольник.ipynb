{
 "cells": [
  {
   "cell_type": "markdown",
   "metadata": {},
   "source": [
    "Звёздный прямоугольник\n",
    "Напишите программу, которая выводит прямоугольник, по периметру состоящий из звёздочек (*).\n",
    "\n",
    "Примечание. Высота и ширина прямоугольника равны \n",
    "4\n",
    "4 и \n",
    "17\n",
    "17 звёздочкам соответственно.\n",
    "\n",
    "Тестовые данные 🟢\n",
    "Sample Input:\n",
    "\n",
    "Sample Output:\n",
    "\n",
    "*****************\n",
    "*               *\n",
    "*               *\n",
    "*****************"
   ]
  },
  {
   "cell_type": "code",
   "execution_count": null,
   "metadata": {},
   "outputs": [],
   "source": [
    "print('*****************')\n",
    "print('*               *')\n",
    "print('*               *')\n",
    "print('*****************')"
   ]
  }
 ],
 "metadata": {
  "kernelspec": {
   "display_name": "Python 3",
   "language": "python",
   "name": "python3"
  },
  "language_info": {
   "codemirror_mode": {
    "name": "ipython",
    "version": 3
   },
   "file_extension": ".py",
   "mimetype": "text/x-python",
   "name": "python",
   "nbconvert_exporter": "python",
   "pygments_lexer": "ipython3",
   "version": "3.11.3"
  },
  "orig_nbformat": 4
 },
 "nbformat": 4,
 "nbformat_minor": 2
}
