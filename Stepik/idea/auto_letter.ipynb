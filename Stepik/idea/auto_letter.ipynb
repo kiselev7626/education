{
 "cells": [
  {
   "cell_type": "code",
   "execution_count": 1,
   "metadata": {},
   "outputs": [],
   "source": [
    "import smtplib\n",
    "from email.mime.multipart import MIMEMultipart\n",
    "from email.mime.text import MIMEText"
   ]
  },
  {
   "cell_type": "code",
   "execution_count": 2,
   "metadata": {},
   "outputs": [],
   "source": [
    "def send_email(receiver_email, subject, body):\n",
    "    # Ваши данные\n",
    "    sender_email = \"f3862@yandex.ru\"\n",
    "    password = \"ejcwpofqgcaanvwp\"\n",
    " \n",
    "    # Создание объекта MIMEMultipart\n",
    "    message = MIMEMultipart()\n",
    "    message[\"From\"] = sender_email\n",
    "    message[\"To\"] = receiver_email\n",
    "    message[\"Subject\"] = subject\n",
    " \n",
    "    # Добавление текста письма\n",
    "    message.attach(MIMEText(body, \"plain\"))\n",
    " \n",
    "    # Отправка письма\n",
    "    with smtplib.SMTP_SSL(\"smtp.yandex.ru\", 465) as server:\n",
    "        server.login(sender_email, password)\n",
    "        server.sendmail(sender_email, receiver_email, message.as_string())"
   ]
  },
  {
   "cell_type": "code",
   "execution_count": 3,
   "metadata": {},
   "outputs": [],
   "source": [
    "receiver_email = \"a.kiselev@sotrans.ru\"\n",
    "subject = \"auto send by python\"\n",
    "body = \"Привет!\"\n",
    " \n",
    "send_email(receiver_email, subject, body)\n"
   ]
  }
 ],
 "metadata": {
  "kernelspec": {
   "display_name": "Python 3",
   "language": "python",
   "name": "python3"
  },
  "language_info": {
   "codemirror_mode": {
    "name": "ipython",
    "version": 3
   },
   "file_extension": ".py",
   "mimetype": "text/x-python",
   "name": "python",
   "nbconvert_exporter": "python",
   "pygments_lexer": "ipython3",
   "version": "3.11.3"
  },
  "orig_nbformat": 4
 },
 "nbformat": 4,
 "nbformat_minor": 2
}
