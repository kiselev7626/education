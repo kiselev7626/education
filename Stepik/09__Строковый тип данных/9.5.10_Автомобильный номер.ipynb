{
 "cells": [
  {
   "cell_type": "code",
   "execution_count": 7,
   "metadata": {},
   "outputs": [
    {
     "name": "stdout",
     "output_type": "stream",
     "text": [
      "['А', '9', '6', '2', 'С', 'Н', '_', '1']\n",
      "NO\n"
     ]
    }
   ],
   "source": [
    "a = input()\n",
    "b=list(a)\n",
    "print(b)\n",
    "if len(b)<9 or len(b)>10:\n",
    "    count=0\n",
    "else:\n",
    "    count=0\n",
    "    if b[0]=='А' or b[0]=='В' or b[0]=='Е' or b[0]=='К' or b[0]=='М' or b[0]=='Н' or b[0]=='О' or b[0]=='Р' or b[0]=='С' or b[0]=='Т' or b[0]=='У' or b[0]=='Х':\n",
    "        count+=1\n",
    "        print(b[0], 'step 1 yes')\n",
    "        if b[1]=='0' or b[1]=='1' or b[1]=='2' or b[1]=='3' or b[1]=='4' or b[1]=='5' or b[1]=='6' or b[1]=='7' or b[1]=='8' or b[1]=='9':\n",
    "            count+=1\n",
    "            print(b[1], 'step 2 yes')\n",
    "            if b[2]=='0' or b[2]=='1' or b[2]=='2' or b[2]=='3' or b[2]=='4' or b[2]=='5' or b[2]=='6' or b[2]=='7' or b[2]=='8' or b[2]=='9':\n",
    "                count+=1\n",
    "                print(b[2], 'step 3 yes')\n",
    "                if b[3]=='0' or b[3]=='1' or b[3]=='2' or b[3]=='3' or b[3]=='4' or b[3]=='5' or b[3]=='6' or b[3]=='7' or b[3]=='8' or b[3]=='9':\n",
    "                    count+=1\n",
    "                    print(b[3], 'step 4 yes')\n",
    "                    if b[4]=='А' or b[4]=='В' or b[4]=='Е' or b[4]=='К' or b[4]=='М' or b[4]=='Н' or b[4]=='О' or b[4]=='Р' or b[4]=='С' or b[4]=='Т' or b[4]=='У' or b[4]=='Х':\n",
    "                        count+=1\n",
    "                        print(b[4], 'step 5 yes')\n",
    "                        if b[5]=='А' or b[5]=='В' or b[5]=='Е' or b[5]=='К' or b[5]=='М' or b[5]=='Н' or b[5]=='О' or b[5]=='Р' or b[5]=='С' or b[5]=='Т' or b[5]=='У' or b[5]=='Х':\n",
    "                            count+=1\n",
    "                            print(b[5], 'step 6 yes')\n",
    "                            if b[6]=='_':\n",
    "                                count+=1\n",
    "                                print(b[6], 'step 7 yes')\n",
    "                                if b[7]=='0' or b[7]=='1' or b[7]=='2' or b[7]=='3' or b[7]=='4' or b[7]=='5' or b[7]=='6' or b[7]=='7' or b[7]=='8' or b[7]=='9':\n",
    "                                    count+=1\n",
    "                                    print(b[7], 'step 8 yes')\n",
    "                                    if b[8]=='0' or b[8]=='1' or b[8]=='2' or b[8]=='3' or b[8]=='4' or b[8]=='5' or b[8]=='6' or b[8]=='7' or b[8]=='8' or b[8]=='9':\n",
    "                                        count+=1\n",
    "                                        print(b[8], 'step 9 yes')\n",
    "                                        if len(b) == 10:\n",
    "                                            if b[9]=='0' or b[9]=='1' or b[9]=='2' or b[9]=='3' or b[9]=='4' or b[9]=='5' or b[9]=='6' or b[9]=='7' or b[9]=='8' or b[9]=='9':\n",
    "                                                count+=1\n",
    "                                                print(b[9], 'step 10 yes')\n",
    "if len(b) == 9 and count == 9:\n",
    "    print('YES')\n",
    "elif len(b) == 10 and count == 10:\n",
    "    print('YES')\n",
    "else:\n",
    "    print('NO')"
   ]
  }
 ],
 "metadata": {
  "kernelspec": {
   "display_name": "Python 3",
   "language": "python",
   "name": "python3"
  },
  "language_info": {
   "codemirror_mode": {
    "name": "ipython",
    "version": 3
   },
   "file_extension": ".py",
   "mimetype": "text/x-python",
   "name": "python",
   "nbconvert_exporter": "python",
   "pygments_lexer": "ipython3",
   "version": "3.11.3"
  },
  "orig_nbformat": 4
 },
 "nbformat": 4,
 "nbformat_minor": 2
}
