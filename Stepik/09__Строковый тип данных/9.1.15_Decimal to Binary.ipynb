{
 "cells": [
  {
   "cell_type": "markdown",
   "metadata": {},
   "source": [
    "Decimal to Binary 🔟\n",
    "На вход программе подается натуральное число, записанное в десятичной системе счисления. Напишите программу, которая переводит данное число в двоичную систему счисления.\n",
    "\n",
    "Формат входных данных\n",
    "На вход программе подается одно натуральное число.\n",
    "\n",
    "Формат выходных данных\n",
    "Программа должна вывести число записанное в двоичной системе счисления.\n",
    "\n",
    "Тестовые данные 🟢\n",
    "Sample Input 1: 5\n",
    "Sample Output 1: 101\n",
    "\n",
    "Sample Input 2: 128\n",
    "Sample Output 2:10000000"
   ]
  },
  {
   "cell_type": "markdown",
   "metadata": {},
   "source": [
    "Преобразование десятичных чисел в двоичные\n",
    "Допустим, нам нужно перевести число 19 в двоичное. Вы можете воспользоваться делением с остатком:\n",
    "19/2 = 9 с остатком 1\n",
    "9/2 = 4 c остатком 1\n",
    "4/2 = 2 без остатка 0\n",
    "2/2 = 1 без остатка 0\n",
    "1/2 = 0 с остатком 1\n",
    "\n",
    "Итак, мы делим каждое частное на 2 и записываем остаток в конец двоичной записи. Продолжаем деление до тех пор, пока в частном не будет 0. Результат записываем справа налево. То есть нижняя цифра (1) будет самой левой и т. д. В результате получаем число 19 в двоичной записи: 10011."
   ]
  },
  {
   "cell_type": "code",
   "execution_count": 32,
   "metadata": {},
   "outputs": [
    {
     "name": "stdout",
     "output_type": "stream",
     "text": [
      "[1, 1, 0, 0, 1]\n",
      "[1, 0, 0, 1, 1]\n",
      "10011"
     ]
    }
   ],
   "source": [
    "#b=int(input()) # вводим десятичное\n",
    "a = 19\n",
    "list1=[]\n",
    "b=a\n",
    "while b > 0:\n",
    "    c=b%2\n",
    "    #print(c)\n",
    "    b=b//2\n",
    "    #print(b)\n",
    "    list1.append(c)\n",
    "print(list1)\n",
    "list2=list1[::-1]\n",
    "print(list2)\n",
    "for i in range(len(list2)):\n",
    "    #print(i)\n",
    "    print(list2[i], end='')"
   ]
  },
  {
   "cell_type": "code",
   "execution_count": 34,
   "metadata": {},
   "outputs": [
    {
     "name": "stdout",
     "output_type": "stream",
     "text": [
      "100000011"
     ]
    }
   ],
   "source": [
    "b=int(input())\n",
    "list1=[]\n",
    "while b > 0:\n",
    "    c=b%2\n",
    "    b=b//2\n",
    "    list1.append(c)\n",
    "list2=list1[::-1]\n",
    "for i in range(len(list2)):\n",
    "    print(list2[i], end='')"
   ]
  }
 ],
 "metadata": {
  "kernelspec": {
   "display_name": "Python 3",
   "language": "python",
   "name": "python3"
  },
  "language_info": {
   "codemirror_mode": {
    "name": "ipython",
    "version": 3
   },
   "file_extension": ".py",
   "mimetype": "text/x-python",
   "name": "python",
   "nbconvert_exporter": "python",
   "pygments_lexer": "ipython3",
   "version": "3.11.5"
  },
  "orig_nbformat": 4
 },
 "nbformat": 4,
 "nbformat_minor": 2
}
