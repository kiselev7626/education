{
 "cells": [
  {
   "cell_type": "code",
   "execution_count": 1,
   "metadata": {},
   "outputs": [
    {
     "name": "stdout",
     "output_type": "stream",
     "text": [
      "Для чисел 1 и 2:\n",
      "  Сумма кубов: 1**3 + 2**3 = 9\n",
      "  Куб суммы: (1 + 2)**3 = 27\n"
     ]
    }
   ],
   "source": [
    "a=int(input())\n",
    "b=int(input())\n",
    "print(f'Для чисел {a} и {b}:')\n",
    "print(f'  Сумма кубов: {a}**3 + {b}**3 = {a**3+b**3}')\n",
    "print(f'  Куб суммы: ({a} + {b})**3 = {(a+b)**3}')"
   ]
  }
 ],
 "metadata": {
  "kernelspec": {
   "display_name": "Python 3",
   "language": "python",
   "name": "python3"
  },
  "language_info": {
   "codemirror_mode": {
    "name": "ipython",
    "version": 3
   },
   "file_extension": ".py",
   "mimetype": "text/x-python",
   "name": "python",
   "nbconvert_exporter": "python",
   "pygments_lexer": "ipython3",
   "version": "3.11.3"
  },
  "orig_nbformat": 4
 },
 "nbformat": 4,
 "nbformat_minor": 2
}
