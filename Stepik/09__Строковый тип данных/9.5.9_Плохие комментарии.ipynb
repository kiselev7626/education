{
 "cells": [
  {
   "cell_type": "code",
   "execution_count": 1,
   "metadata": {},
   "outputs": [
    {
     "name": "stdout",
     "output_type": "stream",
     "text": [
      "0 : sdlfkl;sdfkjl;dk\n",
      "1 : COMMENT SHOULD BE DELETED\n",
      "2 : COMMENT SHOULD BE DELETED\n",
      "3 : sl';dfkmj;lsmfb\n"
     ]
    }
   ],
   "source": [
    "n=int(input('введите количество строк'))\n",
    "for i in range(n):\n",
    "    a=str(input('введите текст комментария'))\n",
    "    if a.isspace() == True or a=='':\n",
    "        print(i+1, ': ', 'COMMENT SHOULD BE DELETED', sep='')\n",
    "    else:\n",
    "        print(i+1, ': ', a, sep='')"
   ]
  }
 ],
 "metadata": {
  "kernelspec": {
   "display_name": "Python 3",
   "language": "python",
   "name": "python3"
  },
  "language_info": {
   "codemirror_mode": {
    "name": "ipython",
    "version": 3
   },
   "file_extension": ".py",
   "mimetype": "text/x-python",
   "name": "python",
   "nbconvert_exporter": "python",
   "pygments_lexer": "ipython3",
   "version": "3.11.3"
  },
  "orig_nbformat": 4
 },
 "nbformat": 4,
 "nbformat_minor": 2
}
